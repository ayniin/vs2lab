{
 "cells": [
  {
   "cell_type": "markdown",
   "metadata": {},
   "source": [
    "# Running server and client in separate notebooks - client part\n",
    "\n",
    "Here we start the client. The server needs to be started first. Lets go...."
   ]
  },
  {
   "cell_type": "code",
   "execution_count": 1,
   "metadata": {},
   "outputs": [
    {
     "name": "stderr",
     "output_type": "stream",
     "text": [
      "2025-04-07 15:02:03,952 - vs2lab.a1_layers.clientserver.Client - INFO - Client connected to socket <socket.socket fd=49, family=2, type=1, proto=0, laddr=('127.0.0.1', 56762), raddr=('127.0.0.1', 50007)>\n",
      "2025-04-07 15:02:03,957 - vs2lab.a1_layers.clientserver.Client - INFO - Client down.\n"
     ]
    },
    {
     "name": "stdout",
     "output_type": "stream",
     "text": [
      "Hans: 1234\n",
      "Peter: 5678\n",
      "Paul: 91011\n",
      "Mary: 121314\n",
      "John: 151617\n",
      "Jane: 181920\n"
     ]
    },
    {
     "data": {
      "text/plain": [
       "'Hans: 1234\\nPeter: 5678\\nPaul: 91011\\nMary: 121314\\nJohn: 151617\\nJane: 181920'"
      ]
     },
     "execution_count": 1,
     "metadata": {},
     "output_type": "execute_result"
    },
    {
     "data": {
      "text/plain": [
       "'Hello, world*'"
      ]
     },
     "execution_count": 1,
     "metadata": {},
     "output_type": "execute_result"
    }
   ],
   "source": [
    "import clientserver # import from our script\n",
    "\n",
    "client = clientserver.Client() # Create a client instance\n",
    "\n",
    "client.call(\"GETALL\") # start the call and print echo"
   ]
  },
  {
   "cell_type": "markdown",
   "metadata": {},
   "source": [
    "Finished."
   ]
  },
  {
   "cell_type": "code",
   "execution_count": null,
   "metadata": {},
   "outputs": [],
   "source": []
  }
 ],
 "metadata": {
  "kernelspec": {
   "display_name": "Python 3 (ipykernel)",
   "language": "python",
   "name": "python3"
  },
  "language_info": {
   "codemirror_mode": {
    "name": "ipython",
    "version": 3
   },
   "file_extension": ".py",
   "mimetype": "text/x-python",
   "name": "python",
   "nbconvert_exporter": "python",
   "pygments_lexer": "ipython3",
   "version": "3.11.4"
  }
 },
 "nbformat": 4,
 "nbformat_minor": 4
}
